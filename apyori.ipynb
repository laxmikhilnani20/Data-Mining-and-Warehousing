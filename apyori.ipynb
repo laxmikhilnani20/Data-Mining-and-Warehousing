{
 "cells": [
  {
   "cell_type": "code",
   "execution_count": 5,
   "metadata": {},
   "outputs": [],
   "source": [
    "import pandas as pd \n",
    "import numpy as np\n",
    "import apyori\n"
   ]
  },
  {
   "cell_type": "code",
   "execution_count": 6,
   "metadata": {},
   "outputs": [],
   "source": [
    "df = pd.read_csv('dataFiles/Day1.csv')"
   ]
  },
  {
   "cell_type": "code",
   "execution_count": 14,
   "metadata": {},
   "outputs": [
    {
     "data": {
      "text/html": [
       "<div>\n",
       "<style scoped>\n",
       "    .dataframe tbody tr th:only-of-type {\n",
       "        vertical-align: middle;\n",
       "    }\n",
       "\n",
       "    .dataframe tbody tr th {\n",
       "        vertical-align: top;\n",
       "    }\n",
       "\n",
       "    .dataframe thead th {\n",
       "        text-align: right;\n",
       "    }\n",
       "</style>\n",
       "<table border=\"1\" class=\"dataframe\">\n",
       "  <thead>\n",
       "    <tr style=\"text-align: right;\">\n",
       "      <th></th>\n",
       "      <th>Wine</th>\n",
       "      <th>Chips</th>\n",
       "      <th>Bread</th>\n",
       "      <th>Butter</th>\n",
       "      <th>Milk</th>\n",
       "      <th>Apple</th>\n",
       "    </tr>\n",
       "  </thead>\n",
       "  <tbody>\n",
       "    <tr>\n",
       "      <th>0</th>\n",
       "      <td>Wine</td>\n",
       "      <td>NaN</td>\n",
       "      <td>Bread</td>\n",
       "      <td>Butter</td>\n",
       "      <td>Milk</td>\n",
       "      <td>NaN</td>\n",
       "    </tr>\n",
       "    <tr>\n",
       "      <th>1</th>\n",
       "      <td>NaN</td>\n",
       "      <td>NaN</td>\n",
       "      <td>Bread</td>\n",
       "      <td>Butter</td>\n",
       "      <td>Milk</td>\n",
       "      <td>NaN</td>\n",
       "    </tr>\n",
       "    <tr>\n",
       "      <th>2</th>\n",
       "      <td>NaN</td>\n",
       "      <td>Chips</td>\n",
       "      <td>NaN</td>\n",
       "      <td>NaN</td>\n",
       "      <td>NaN</td>\n",
       "      <td>Apple</td>\n",
       "    </tr>\n",
       "    <tr>\n",
       "      <th>3</th>\n",
       "      <td>Wine</td>\n",
       "      <td>Chips</td>\n",
       "      <td>Bread</td>\n",
       "      <td>Butter</td>\n",
       "      <td>Milk</td>\n",
       "      <td>Apple</td>\n",
       "    </tr>\n",
       "    <tr>\n",
       "      <th>4</th>\n",
       "      <td>Wine</td>\n",
       "      <td>Chips</td>\n",
       "      <td>NaN</td>\n",
       "      <td>NaN</td>\n",
       "      <td>Milk</td>\n",
       "      <td>NaN</td>\n",
       "    </tr>\n",
       "  </tbody>\n",
       "</table>\n",
       "</div>"
      ],
      "text/plain": [
       "   Wine  Chips  Bread  Butter  Milk  Apple\n",
       "0  Wine    NaN  Bread  Butter  Milk    NaN\n",
       "1   NaN    NaN  Bread  Butter  Milk    NaN\n",
       "2   NaN  Chips    NaN     NaN   NaN  Apple\n",
       "3  Wine  Chips  Bread  Butter  Milk  Apple\n",
       "4  Wine  Chips    NaN     NaN  Milk    NaN"
      ]
     },
     "execution_count": 14,
     "metadata": {},
     "output_type": "execute_result"
    }
   ],
   "source": [
    "df.head(5)"
   ]
  },
  {
   "cell_type": "code",
   "execution_count": 15,
   "metadata": {},
   "outputs": [
    {
     "data": {
      "text/html": [
       "<div>\n",
       "<style scoped>\n",
       "    .dataframe tbody tr th:only-of-type {\n",
       "        vertical-align: middle;\n",
       "    }\n",
       "\n",
       "    .dataframe tbody tr th {\n",
       "        vertical-align: top;\n",
       "    }\n",
       "\n",
       "    .dataframe thead th {\n",
       "        text-align: right;\n",
       "    }\n",
       "</style>\n",
       "<table border=\"1\" class=\"dataframe\">\n",
       "  <thead>\n",
       "    <tr style=\"text-align: right;\">\n",
       "      <th></th>\n",
       "      <th>Wine</th>\n",
       "      <th>Chips</th>\n",
       "      <th>Bread</th>\n",
       "      <th>Butter</th>\n",
       "      <th>Milk</th>\n",
       "      <th>Apple</th>\n",
       "    </tr>\n",
       "  </thead>\n",
       "  <tbody>\n",
       "    <tr>\n",
       "      <th>16</th>\n",
       "      <td>NaN</td>\n",
       "      <td>Chips</td>\n",
       "      <td>NaN</td>\n",
       "      <td>Butter</td>\n",
       "      <td>Milk</td>\n",
       "      <td>Apple</td>\n",
       "    </tr>\n",
       "    <tr>\n",
       "      <th>17</th>\n",
       "      <td>Wine</td>\n",
       "      <td>Chips</td>\n",
       "      <td>Bread</td>\n",
       "      <td>Butter</td>\n",
       "      <td>Milk</td>\n",
       "      <td>Apple</td>\n",
       "    </tr>\n",
       "    <tr>\n",
       "      <th>18</th>\n",
       "      <td>Wine</td>\n",
       "      <td>NaN</td>\n",
       "      <td>Bread</td>\n",
       "      <td>Butter</td>\n",
       "      <td>Milk</td>\n",
       "      <td>Apple</td>\n",
       "    </tr>\n",
       "    <tr>\n",
       "      <th>19</th>\n",
       "      <td>Wine</td>\n",
       "      <td>Chips</td>\n",
       "      <td>Bread</td>\n",
       "      <td>NaN</td>\n",
       "      <td>Milk</td>\n",
       "      <td>Apple</td>\n",
       "    </tr>\n",
       "    <tr>\n",
       "      <th>20</th>\n",
       "      <td>NaN</td>\n",
       "      <td>Chips</td>\n",
       "      <td>NaN</td>\n",
       "      <td>NaN</td>\n",
       "      <td>NaN</td>\n",
       "      <td>NaN</td>\n",
       "    </tr>\n",
       "  </tbody>\n",
       "</table>\n",
       "</div>"
      ],
      "text/plain": [
       "    Wine  Chips  Bread  Butter  Milk  Apple\n",
       "16   NaN  Chips    NaN  Butter  Milk  Apple\n",
       "17  Wine  Chips  Bread  Butter  Milk  Apple\n",
       "18  Wine    NaN  Bread  Butter  Milk  Apple\n",
       "19  Wine  Chips  Bread     NaN  Milk  Apple\n",
       "20   NaN  Chips    NaN     NaN   NaN    NaN"
      ]
     },
     "execution_count": 15,
     "metadata": {},
     "output_type": "execute_result"
    }
   ],
   "source": [
    "df.tail()"
   ]
  },
  {
   "cell_type": "code",
   "execution_count": 16,
   "metadata": {},
   "outputs": [
    {
     "data": {
      "text/plain": [
       "(21, 6)"
      ]
     },
     "execution_count": 16,
     "metadata": {},
     "output_type": "execute_result"
    }
   ],
   "source": [
    "df.shape"
   ]
  },
  {
   "cell_type": "code",
   "execution_count": 17,
   "metadata": {},
   "outputs": [],
   "source": [
    "records = []\n",
    "for i in range(0, 21):\n",
    "    records.append([str(df.values[i, j]) for j in range(0, 6)])"
   ]
  },
  {
   "cell_type": "code",
   "execution_count": 18,
   "metadata": {},
   "outputs": [
    {
     "data": {
      "text/plain": [
       "[['Wine', 'nan', 'Bread', 'Butter', 'Milk', 'nan'],\n",
       " ['nan', 'nan', 'Bread', 'Butter', 'Milk', 'nan'],\n",
       " ['nan', 'Chips', 'nan', 'nan', 'nan', 'Apple'],\n",
       " ['Wine', 'Chips', 'Bread', 'Butter', 'Milk', 'Apple'],\n",
       " ['Wine', 'Chips', 'nan', 'nan', 'Milk', 'nan'],\n",
       " ['Wine', 'Chips', 'Bread', 'Butter', 'nan', 'Apple'],\n",
       " ['Wine', 'Chips', 'nan', 'nan', 'Milk', 'nan'],\n",
       " ['Wine', 'nan', 'Bread', 'nan', 'nan', 'Apple'],\n",
       " ['Wine', 'nan', 'Bread', 'Butter', 'Milk', 'nan'],\n",
       " ['nan', 'Chips', 'Bread', 'Butter', 'nan', 'Apple'],\n",
       " ['Wine', 'nan', 'nan', 'Butter', 'Milk', 'Apple'],\n",
       " ['Wine', 'Chips', 'Bread', 'Butter', 'Milk', 'nan'],\n",
       " ['Wine', 'nan', 'Bread', 'nan', 'Milk', 'Apple'],\n",
       " ['Wine', 'nan', 'Bread', 'Butter', 'Milk', 'Apple'],\n",
       " ['Wine', 'Chips', 'Bread', 'Butter', 'Milk', 'Apple'],\n",
       " ['nan', 'Chips', 'Bread', 'Butter', 'Milk', 'Apple'],\n",
       " ['nan', 'Chips', 'nan', 'Butter', 'Milk', 'Apple'],\n",
       " ['Wine', 'Chips', 'Bread', 'Butter', 'Milk', 'Apple'],\n",
       " ['Wine', 'nan', 'Bread', 'Butter', 'Milk', 'Apple'],\n",
       " ['Wine', 'Chips', 'Bread', 'nan', 'Milk', 'Apple'],\n",
       " ['nan', 'Chips', 'nan', 'nan', 'nan', 'nan']]"
      ]
     },
     "execution_count": 18,
     "metadata": {},
     "output_type": "execute_result"
    }
   ],
   "source": [
    "records"
   ]
  },
  {
   "cell_type": "code",
   "execution_count": 19,
   "metadata": {},
   "outputs": [],
   "source": [
    "association_rules = apyori.apriori(records, min_support=0.50, min_confidence=0.7, min_lift=1.2, min_length=2)\n",
    "association_results = list(association_rules)"
   ]
  },
  {
   "cell_type": "code",
   "execution_count": 20,
   "metadata": {},
   "outputs": [
    {
     "data": {
      "text/plain": [
       "[RelationRecord(items=frozenset({'Butter', 'Bread'}), support=0.5714285714285714, ordered_statistics=[OrderedStatistic(items_base=frozenset({'Bread'}), items_add=frozenset({'Butter'}), confidence=0.7999999999999999, lift=1.2), OrderedStatistic(items_base=frozenset({'Butter'}), items_add=frozenset({'Bread'}), confidence=0.8571428571428571, lift=1.2)])]"
      ]
     },
     "execution_count": 20,
     "metadata": {},
     "output_type": "execute_result"
    }
   ],
   "source": [
    "association_results"
   ]
  },
  {
   "cell_type": "code",
   "execution_count": null,
   "metadata": {},
   "outputs": [],
   "source": []
  }
 ],
 "metadata": {
  "kernelspec": {
   "display_name": "Python 3",
   "language": "python",
   "name": "python3"
  },
  "language_info": {
   "codemirror_mode": {
    "name": "ipython",
    "version": 3
   },
   "file_extension": ".py",
   "mimetype": "text/x-python",
   "name": "python",
   "nbconvert_exporter": "python",
   "pygments_lexer": "ipython3",
   "version": "3.13.3"
  }
 },
 "nbformat": 4,
 "nbformat_minor": 2
}
